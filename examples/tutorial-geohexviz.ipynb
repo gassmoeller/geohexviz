{
 "cells": [
  {
   "cell_type": "markdown",
   "id": "58f5cd0d",
   "metadata": {},
   "source": [
    "# General usage of GeoHexViz's builder module\n",
    "This notebook provides some general usage of GeoHexViz's main module."
   ]
  },
  {
   "cell_type": "markdown",
   "id": "a3476e31",
   "metadata": {},
   "source": [
    "## Importing the right module\n",
    "In order to start building visualizations, we must first import the module that provides the tools to build them.\n",
    "The important module to note, is the `builder.py` module.\n",
    "This module contains the `PlotBuilder` class that allows for the incremental building of a visualization.\n",
    "Generally, an import should look as follows:"
   ]
  },
  {
   "cell_type": "code",
   "execution_count": null,
   "id": "d366c9d3",
   "metadata": {},
   "outputs": [],
   "source": [
    "from geohexviz.builder import PlotBuilder"
   ]
  },
  {
   "cell_type": "markdown",
   "id": "e35f771d",
   "metadata": {},
   "source": [
    "## Using a PlotBuilder\n",
    "Making a PlotBuilder object should look like something in the form:"
   ]
  },
  {
   "cell_type": "code",
   "execution_count": null,
   "id": "47489ba4",
   "metadata": {},
   "outputs": [],
   "source": [
    "myBuilder = PlotBuilder()"
   ]
  },
  {
   "cell_type": "markdown",
   "id": "f367a855",
   "metadata": {},
   "source": [
    "The PlotBuilder class has many properties so be sure to read up on the in-depth documentation.\n",
    "The PlotBuilder can be fully instantiated from the constructor, but this is not recommended as it can cause user-borne mistakes."
   ]
  },
  {
   "cell_type": "markdown",
   "id": "4ef3f388",
   "metadata": {},
   "source": [
    "### Setting the required layer of the PlotBuilder\n",
    "In order to display hexagonally binned data, the hexbin layer of the PlotBuilder must be set.\n",
    "This is done by invoking the function `set_hexbin()` on it.\n",
    "At any point, this layer can be set again.\n",
    "The `set_hexbin()` function has many important parameters, most notably the `data`, `latitude_field`, `longitude_field`, `hex_resolution`, and `hexbin_info` parameters.\n",
    "The `data` parameter tells GeoHexViz where to obtain the input data from.\n",
    "It can be a DataFrame, GeoDataFrame, or file path.\n",
    "The parameters `latitue_field` and `longitude_field` determine what columns GeoHexViz parses for latitude and longitude values.\n",
    "These parameters can be ignored when the columns containing latitudes and longitudes are given a distinguishable title, or when a GeoDataFrame with a filled geometry column is passed.\n",
    "The `hex_resolution` parameter tells GeoHexViz what size of hexagon to use for the bins.\n",
    "This value must be in the range 0 to 15 (0 being largest, 15 being smallest), and is defined by Uber H3.\n",
    "Finally, the `hexbin_info` should itself contain two parameters that specify how the display value of each hexagon should be determined.\n",
    "These parameters are `binning_field` which specified what column should be used, and `binning_fn` which specifies how the display value be calculated (what function to use on the grouped data).\n",
    "An example of setting the hexbin layer is given below."
   ]
  },
  {
   "cell_type": "code",
   "execution_count": null,
   "id": "0118ac3b",
   "metadata": {},
   "outputs": [],
   "source": [
    "# first make a DataFrame containing random data\n",
    "from pandas import DataFrame\n",
    "import random\n",
    "\n",
    "df = DataFrame({\n",
    "    'latitude': random.sample(range(-90, 90), 50),\n",
    "    'longitude': random.sample(range(-180, 180), 50),\n",
    "    'value': random.sample(range(0, 100), 50)\n",
    "})"
   ]
  },
  {
   "cell_type": "code",
   "execution_count": null,
   "id": "9a890dd8",
   "metadata": {},
   "outputs": [],
   "source": [
    "df"
   ]
  },
  {
   "cell_type": "code",
   "execution_count": null,
   "id": "19b8fb7e",
   "metadata": {},
   "outputs": [],
   "source": [
    "# now set te hexbin layer\n",
    "myBuilder.set_hexbin(\n",
    "    data=df,                      # recall that there are a variety of inputs for this parameter\n",
    "    latitude_field='latitude',    # not necessary (distinguishable name)\n",
    "    longitude_field='longitude'   # not necessary (distinguishable name)\n",
    "    hex_resolution=3,             # typically resolution 3 or 4 is recommended\n",
    "    hexbin_info=dict(\n",
    "        binning_field='value',    # display value is based on the value column\n",
    "        binning_fn='avg'          # display value is the average of the value column; per hex\n",
    "    )\n",
    ")"
   ]
  },
  {
   "cell_type": "markdown",
   "id": "37de7a77",
   "metadata": {},
   "source": [
    "Note that the parameters for other layer types are very similar to the hexbin layer."
   ]
  },
  {
   "cell_type": "markdown",
   "id": "851efab6",
   "metadata": {},
   "source": [
    "### Adding optional layers to the PlotBuilder\n",
    "There are a variety of optional layers that can be added to the PlotBuilder.\n",
    "These layer types include: region, outline, grid, and point.\n",
    "Each layer type has its own purpose."
   ]
  },
  {
   "cell_type": "markdown",
   "id": "716ed885",
   "metadata": {},
   "source": [
    "#### Adding a region layer\n",
    "The purpose of a region-type layer is to highlight areas of interest.\n",
    "The manifest visually as a solid-coloured polygon with a defined outline.\n",
    "A region-type layer is usally defined by a GIS readable file, GeoDataFrame, country name, or continent name.\n",
    "An example of adding a region-type layer is given below."
   ]
  },
  {
   "cell_type": "code",
   "execution_count": null,
   "id": "08a61a3a",
   "metadata": {},
   "outputs": [],
   "source": [
    "myBuilder.add_region(\n",
    "    name=\"sample_region\",     # every optional layer-type needs a name\n",
    "    data=\"CANADA\"             # country name\n",
    ")"
   ]
  },
  {
   "cell_type": "markdown",
   "id": "173cdcc1",
   "metadata": {},
   "source": [
    "With these two parameters alone, the region layer is defined.\n",
    "It is worth noting that the `data` property of a region layer can not be in any form that contains anything other than polygon-like geometry."
   ]
  },
  {
   "cell_type": "markdown",
   "id": "45640c01",
   "metadata": {},
   "source": [
    "#### Adding a outline layer\n",
    "The purpose of a outline-type layer also is to highlight areas of interest. The manifest visually as a polygon with a defined outline. A outline-type layer is usally defined by a GIS readable file, GeoDataFrame, country name, continent name, or a file that contains coordinates. An example of adding a outline-type layer is given below."
   ]
  },
  {
   "cell_type": "code",
   "execution_count": null,
   "id": "99d0ced1",
   "metadata": {},
   "outputs": [],
   "source": [
    "myBuilder.add_outline(\n",
    "    name=\"sample_outline\",\n",
    "    data=\"UNITED STATES OF AMERICA\"\n",
    ")"
   ]
  },
  {
   "cell_type": "markdown",
   "id": "3224f423",
   "metadata": {},
   "source": [
    "#### Adding a grid layer\n",
    "The purpose of a grid-type layer is to extend hexagonal tiling and help the hexbin layer form a continuous grid.\n",
    "A grid-type layer is usually defined with a GIS readable file, GeoDataFrame, country name, or continent name.\n",
    "They manifest visually as empty hexagons with defined outlines.\n",
    "These layers require very similar properties to the hexbin layer.\n",
    "An example of adding a grid-type layer is given below."
   ]
  },
  {
   "cell_type": "code",
   "execution_count": null,
   "id": "6d5db5bd",
   "metadata": {},
   "outputs": [],
   "source": [
    "# define a dataframe for a grid layer\n",
    "grdf = DataFrame({\n",
    "    'latitude': random.sample(range(-90, 90), 50),\n",
    "    'atm_long_tt': random.sample(range(-180, 180), 50)\n",
    "})"
   ]
  },
  {
   "cell_type": "code",
   "execution_count": null,
   "id": "928c7507",
   "metadata": {},
   "outputs": [],
   "source": [
    "grdf"
   ]
  },
  {
   "cell_type": "code",
   "execution_count": null,
   "id": "d3aa92a8",
   "metadata": {},
   "outputs": [],
   "source": [
    "# add a grid layer\n",
    "myBuilder.add_grid(\n",
    "    name=\"sample_grid1\",            # still requires a name\n",
    "    data=grdf,\n",
    "    latitude_field=\"latitude\",      # still not necessary (distinguishable name)\n",
    "    longitude_field=\"atm_long_tt\",  # required (not a distinguishable name)\n",
    "    hex_resolution=3                # if not specified, it copies the resolution of the hexbin layer\n",
    ")"
   ]
  },
  {
   "cell_type": "code",
   "execution_count": null,
   "id": "01623f17",
   "metadata": {},
   "outputs": [],
   "source": [
    "# add another grid layer\n",
    "myBuilder.add_grid(\n",
    "    name=\"sample_grid2\",\n",
    "    data=\"CANADA\"\n",
    ")"
   ]
  },
  {
   "cell_type": "markdown",
   "id": "a6446c40",
   "metadata": {},
   "source": [
    "#### Adding a point layer\n",
    "The purpose of a point-type layer is to provide a way of visualizing scatter data over the hexbin layer.\n",
    "A point-type layer is usually defined with a GIS readable file, DataFrame, or GeoDataFrame.\n",
    "An example of adding a point-type layer is given below."
   ]
  },
  {
   "cell_type": "code",
   "execution_count": null,
   "id": "3511df88",
   "metadata": {},
   "outputs": [],
   "source": [
    "# define a dataframe for a point layer\n",
    "labels = [random.choice([\"no\", \"yes\", \"maybe\"]) for i in range(0, 50)]   # random list of labels for each point\n",
    "ptdf = DataFrame({\n",
    "    'latitude': random.sample(range(-90, 90), 50),\n",
    "    'longitude': random.sample(range(-180, 180), 50),\n",
    "    'text': labels\n",
    "})"
   ]
  },
  {
   "cell_type": "code",
   "execution_count": null,
   "id": "7c1f1543",
   "metadata": {},
   "outputs": [],
   "source": [
    "ptdf"
   ]
  },
  {
   "cell_type": "code",
   "execution_count": null,
   "id": "61fa1aa9",
   "metadata": {},
   "outputs": [],
   "source": [
    "# add a point layer\n",
    "myBuilder.add_point(\n",
    "    name=\"sample_point\",            # still requires a name\n",
    "    data=ptdf,\n",
    "    text_field='text'               # not required, displays the text column over each point\n",
    ")                                   # latitude field, longitude field not required (distinguishable name)"
   ]
  },
  {
   "cell_type": "markdown",
   "id": "ac715129",
   "metadata": {},
   "source": [
    "### Altering the PlotBuilder layers\n",
    "There are functions that the user can invoke to alter the layers in the plot.\n",
    "This section will highlight three of these functions."
   ]
  },
  {
   "cell_type": "markdown",
   "id": "f8cf7b01",
   "metadata": {},
   "source": [
    "#### Clipping data\n",
    "The function `clip_layers` will clip the geometries of layer(s) to another layer(s).\n",
    "It has two main parameters being `clip` which specifies what layer(s) will be clipped, and `to` which specifies what layers will act as the boundary of the clip.\n",
    "An example of this function being used is given below."
   ]
  },
  {
   "cell_type": "code",
   "execution_count": null,
   "id": "1c0bef81",
   "metadata": {},
   "outputs": [],
   "source": [
    "myBuilder.clip_layers(clip=\"hexbin\", to=\"regions\")"
   ]
  },
  {
   "cell_type": "markdown",
   "id": "d647fd31",
   "metadata": {},
   "source": [
    "Running this clip the geometries of the hexbin layer to the geometries of the region layers within the PlotBuilder."
   ]
  },
  {
   "cell_type": "markdown",
   "id": "10e4a319",
   "metadata": {},
   "source": [
    "#### Logarithmic scale\n",
    "The function `logify_scale` will make the plot use a logarithmic scale.\n",
    "It has many parameters for specialized use but usually it does not require them."
   ]
  },
  {
   "cell_type": "code",
   "execution_count": null,
   "id": "001ac389",
   "metadata": {},
   "outputs": [],
   "source": [
    "myBuilder.logify_scale(exp_type=\"^\") # exp_type determines what type of exponent appears in the colour bar's numbers"
   ]
  },
  {
   "cell_type": "markdown",
   "id": "c0387c41",
   "metadata": {},
   "source": [
    "#### Adjust focus\n",
    "The function `adjust_focus` adjusts the plot such that it focuses on the geometries of the given layer.\n",
    "For this reason, it takes one main parameter called `on` which determines which layer(s) to focus on."
   ]
  },
  {
   "cell_type": "code",
   "execution_count": null,
   "id": "bd502767",
   "metadata": {},
   "outputs": [],
   "source": [
    "myBuilder.adjust_focus(on=\"regions\") # focuses on all region-type layers within the PlotBuilder"
   ]
  },
  {
   "cell_type": "markdown",
   "id": "2734570f",
   "metadata": {},
   "source": [
    "### Visualization output\n",
    "Before obtaining output, the visualization must first be built.\n",
    "This can be done via invoking the `finalize` function:"
   ]
  },
  {
   "cell_type": "code",
   "execution_count": null,
   "id": "69b14b29",
   "metadata": {},
   "outputs": [],
   "source": [
    "myBuilder.finalize()"
   ]
  },
  {
   "cell_type": "markdown",
   "id": "5038ed1b",
   "metadata": {},
   "source": [
    "Now the visualization can be displayed in the browser via invoking the `display` function.\n",
    "In the browser, the visualization can be interacted with."
   ]
  },
  {
   "cell_type": "code",
   "execution_count": null,
   "id": "96213b0c",
   "metadata": {},
   "outputs": [],
   "source": [
    "myBuilder.display()"
   ]
  },
  {
   "cell_type": "markdown",
   "id": "2d621516",
   "metadata": {},
   "source": [
    "The visualization can also be output to a file by using the `output` function.\n",
    "This function has only one required parameter which is `filepath`."
   ]
  },
  {
   "cell_type": "code",
   "execution_count": null,
   "id": "6b84034a",
   "metadata": {},
   "outputs": [],
   "source": [
    "myBuilder.output(filepath=\"yay.jpg\")"
   ]
  },
  {
   "cell_type": "markdown",
   "id": "33456847",
   "metadata": {},
   "source": [
    "Note that when in PDF format, and if the proper libraries are installed, the output can be cropped via the `crop_output` parameter."
   ]
  },
  {
   "cell_type": "code",
   "execution_count": null,
   "id": "e86123a0",
   "metadata": {},
   "outputs": [],
   "source": [
    "myBuilder.output(filepath=\"yay.pdf\", crop_output=True)"
   ]
  }
 ],
 "metadata": {
  "kernelspec": {
   "display_name": "Python 3 (ipykernel)",
   "language": "python",
   "name": "python3"
  },
  "language_info": {
   "codemirror_mode": {
    "name": "ipython",
    "version": 3
   },
   "file_extension": ".py",
   "mimetype": "text/x-python",
   "name": "python",
   "nbconvert_exporter": "python",
   "pygments_lexer": "ipython3",
   "version": "3.8.5"
  }
 },
 "nbformat": 4,
 "nbformat_minor": 5
}